{
 "cells": [
  {
   "cell_type": "code",
   "execution_count": 20,
   "id": "0e65471b-7c09-4810-823a-b3d16e12b8c1",
   "metadata": {},
   "outputs": [],
   "source": [
    "import pandas as pd\n",
    "from tqdm import tqdm\n",
    "import re"
   ]
  },
  {
   "cell_type": "code",
   "execution_count": 43,
   "id": "6093c0a7-0ca9-4c40-9498-9176a40f7d4e",
   "metadata": {},
   "outputs": [],
   "source": [
    "def Get_year_results(year_string, out_string):\n",
    "    results = pd.read_html('https://sport.mkez.tw/games/'+ year_string +'/front/schedule_ball_score.php')[0]\n",
    "    \n",
    "    for i in tqdm(range(1,150)):\n",
    "        results_temp = pd.read_html('https://sport.mkez.tw/games/'+ year_string +'/front/schedule_ball_score.php?pageNum_RS=' + str(i))[0]\n",
    "        #print(html_tables_temp)\n",
    "        results = pd.concat([results, results_temp])\n",
    "        \n",
    "    results.columns = ['matchID', 'Time', 'Group', 'inGroup_matchID', 'Player1', 'Score', 'Player2', 'Ranking']\n",
    "    results = results.reset_index(drop = True)\n",
    "    invalid_scores = ['傷', '空', '請', '棄', '-2', '-5']\n",
    "\n",
    "    for i in invalid_scores:\n",
    "        f = results['Score'].str.contains(i)\n",
    "        results = results[~f]\n",
    "\n",
    "    results['Gr'] = results['Group'].str.replace(\"子組第.次賽 圖\", \"\", regex = True)\n",
    "    results['Round'] = results['Group'].str.replace(\"(.子組| 圖)\", \"\", regex = True)\n",
    "\n",
    "    player_stats = {}\n",
    "    for i in results.index:\n",
    "        #player 1\n",
    "        Player_entry = re.sub(\"(\\\\(.+\\\\)|[0-9]|勝)\", \"\", results.Player1[i])\n",
    "        Player_name = Player_entry.split(' - ')[1].strip() + ' - ' + Player_entry.split(' - ')[0]\n",
    "    \n",
    "        selection = '-'\n",
    "        score = results.Score[i].split(' : ')\n",
    "        games_W = int(score[0])\n",
    "        games_L = int(score[1])\n",
    "        \n",
    "        if games_W == 3:\n",
    "            match_W = 1\n",
    "            match_L = 0\n",
    "            if '入選' in str(results.Ranking[i]):\n",
    "                selection = results.Round[i] + '入選'\n",
    "        else:\n",
    "            match_W = 0\n",
    "            match_L = 1\n",
    "    \n",
    "    \n",
    "        if Player_name not in player_stats.keys():\n",
    "            player_stats[Player_name] = {'name': Player_name, 'Gr': results.Gr[i],\n",
    "                                         'W': match_W, 'L': match_L,\n",
    "                                         'g_W': games_W, 'g_L': games_L, \n",
    "                                         'selection': selection\n",
    "                                        }\n",
    "        else:\n",
    "            player_stats[Player_name]['W'] += match_W\n",
    "            player_stats[Player_name]['L'] += match_L\n",
    "            player_stats[Player_name]['g_W'] += games_W\n",
    "            player_stats[Player_name]['g_L'] += games_L\n",
    "            if '入選' in selection:\n",
    "                player_stats[Player_name]['selection'] = selection\n",
    "        \n",
    "        #player 2\n",
    "        Player_entry = re.sub(\"(\\\\(.+\\\\)|[0-9]|勝)\", \"\", results.Player2[i])\n",
    "        Player_name = Player_entry.split(' - ')[1].strip() + ' - ' + Player_entry.split(' - ')[0]\n",
    "        selection = '-'\n",
    "        \n",
    "        score = results.Score[i].split(' : ')\n",
    "        games_W = int(score[1])\n",
    "        games_L = int(score[0])\n",
    "    \n",
    "        if games_W == 3:\n",
    "            match_W = 1\n",
    "            match_L = 0\n",
    "            if '入選' in str(results.Ranking[i]):\n",
    "                selection = results.Round[i] + '入選'\n",
    "        else:\n",
    "            match_W = 0\n",
    "            match_L = 1\n",
    "        \n",
    "        if Player_name not in player_stats.keys():\n",
    "            player_stats[Player_name] = {'name': Player_name, 'Gr': results.Gr[i],\n",
    "                                         'W': match_W, 'L': match_L,\n",
    "                                         'g_W': games_W, 'g_L': games_L,\n",
    "                                         'selection': selection\n",
    "                                        }\n",
    "        else:\n",
    "            player_stats[Player_name]['W'] += match_W\n",
    "            player_stats[Player_name]['L'] += match_L\n",
    "            player_stats[Player_name]['g_W'] += games_W\n",
    "            player_stats[Player_name]['g_L'] += games_L\n",
    "            \n",
    "            if '入選' in selection:\n",
    "                player_stats[Player_name]['selection'] = selection\n",
    "\n",
    "    player_stats = pd.DataFrame.from_dict(player_stats, orient='index').reset_index(drop = True)\n",
    "    player_stats['Tot'] = player_stats.W + player_stats.L\n",
    "    player_stats['W_pct'] = round(player_stats.W / player_stats.Tot, 3)\n",
    "    player_stats['Tot_Gms'] = player_stats.g_W + player_stats.g_L\n",
    "    player_stats['g_W_pct'] = round(player_stats.g_W / player_stats.Tot_Gms, 3)\n",
    "    player_stats = player_stats.sort_values(by=['W_pct', 'g_W_pct'], ascending = False)\n",
    "    player_stats = player_stats[['name', 'Gr', \n",
    "                                 'W', 'L', 'Tot',  'W_pct', 'selection',\n",
    "                                 'g_W', 'g_L',  'Tot_Gms', 'g_W_pct',]]\n",
    "    \n",
    "    player_stats.to_csv(out_string + '_results.tsv', sep=\"\\t\", index = False, float_format=\"%.3f\") \n",
    "    \n",
    "    player_stats_f = player_stats[player_stats['Gr'].str.contains('女')]\n",
    "    player_stats_f.to_csv(out_string + '_results_f.tsv', sep=\"\\t\", index = False, float_format=\"%.3f\") \n",
    "    \n",
    "    player_stats_m = player_stats[player_stats['Gr'].str.contains('男')]\n",
    "    player_stats_m.to_csv(out_string + '_results_m.tsv', sep=\"\\t\", index = False, float_format=\"%.3f\") \n",
    "\n",
    "    return None\n"
   ]
  },
  {
   "cell_type": "code",
   "execution_count": null,
   "id": "b38eb4bc-6679-44dd-9f40-15409f4c15dd",
   "metadata": {},
   "outputs": [
    {
     "name": "stderr",
     "output_type": "stream",
     "text": [
      " 79%|█████████████████████████████████████████████████████████████████████████                    | 117/149 [00:30<00:10,  2.98it/s]"
     ]
    }
   ],
   "source": [
    "Get_year_results('tt_11112', '112')"
   ]
  },
  {
   "cell_type": "code",
   "execution_count": null,
   "id": "f36654bb-b3d9-48fe-a65a-20a973c1dcaf",
   "metadata": {},
   "outputs": [],
   "source": [
    "Get_year_results('tt_1131112', '114')"
   ]
  },
  {
   "cell_type": "code",
   "execution_count": null,
   "id": "6ed53ed9-8929-4766-8f3e-c9d075e5636c",
   "metadata": {},
   "outputs": [],
   "source": []
  }
 ],
 "metadata": {
  "kernelspec": {
   "display_name": "Python 3 (ipykernel)",
   "language": "python",
   "name": "python3"
  },
  "language_info": {
   "codemirror_mode": {
    "name": "ipython",
    "version": 3
   },
   "file_extension": ".py",
   "mimetype": "text/x-python",
   "name": "python",
   "nbconvert_exporter": "python",
   "pygments_lexer": "ipython3",
   "version": "3.10.6"
  }
 },
 "nbformat": 4,
 "nbformat_minor": 5
}
